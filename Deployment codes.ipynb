{
 "cells": [
  {
   "cell_type": "code",
   "execution_count": 563,
   "id": "08220fec",
   "metadata": {},
   "outputs": [],
   "source": [
    "import pandas as pd\n",
    "import seaborn as sns\n",
    "import statsmodels.api as sm\n",
    "import numpy as np\n",
    "import matplotlib.pyplot\n",
    "from sklearn.model_selection import cross_val_score"
   ]
  },
  {
   "cell_type": "code",
   "execution_count": 564,
   "id": "bd8b1254",
   "metadata": {},
   "outputs": [],
   "source": [
    "lr_data = pd.read_csv('hotel_booking.csv')\n"
   ]
  },
  {
   "cell_type": "code",
   "execution_count": 565,
   "id": "83f36043",
   "metadata": {},
   "outputs": [],
   "source": [
    "lr_data=lr_data[~((lr_data.children==0)&(lr_data.adults==0)&(lr_data.babies==0))]"
   ]
  },
  {
   "cell_type": "code",
   "execution_count": 566,
   "id": "dbb14a55",
   "metadata": {},
   "outputs": [],
   "source": [
    "lr_data['agent']=lr_data['agent'].fillna(0)\n",
    "lr_data['company']=lr_data['company'].fillna(0)"
   ]
  },
  {
   "cell_type": "code",
   "execution_count": 567,
   "id": "d6ef02f4",
   "metadata": {},
   "outputs": [],
   "source": [
    "lr_data = lr_data.dropna()"
   ]
  },
  {
   "cell_type": "code",
   "execution_count": 568,
   "id": "48fe39b3",
   "metadata": {},
   "outputs": [],
   "source": [
    "lr_data['agent']=lr_data['agent'].apply(lambda x:'Yes' if x!=0 else 'No')\n",
    "lr_data['company']=lr_data['company'].apply(lambda x:'Yes' if x!=0 else 'No')"
   ]
  },
  {
   "cell_type": "code",
   "execution_count": 569,
   "id": "e038751e",
   "metadata": {},
   "outputs": [
    {
     "data": {
      "text/plain": [
       "array(['BB', 'FB', 'HB', 'SC', 'Undefined'], dtype=object)"
      ]
     },
     "execution_count": 569,
     "metadata": {},
     "output_type": "execute_result"
    }
   ],
   "source": [
    "lr_data.meal.unique()"
   ]
  },
  {
   "cell_type": "code",
   "execution_count": 570,
   "id": "8b5dfa6c",
   "metadata": {},
   "outputs": [],
   "source": [
    "lr_data['meal'] = lr_data['meal'].apply(lambda x: 'SC' if x=='Unedfined' else x)"
   ]
  },
  {
   "cell_type": "code",
   "execution_count": 571,
   "id": "94891c4a",
   "metadata": {},
   "outputs": [],
   "source": [
    "lr_data = lr_data[~(lr_data['market_segment']=='Undefined')]"
   ]
  },
  {
   "cell_type": "code",
   "execution_count": 572,
   "id": "33b56c5d",
   "metadata": {},
   "outputs": [],
   "source": [
    "lr_data['reserved_assigned']=lr_data.reserved_room_type==lr_data.assigned_room_type"
   ]
  },
  {
   "cell_type": "code",
   "execution_count": 573,
   "id": "0aaef552",
   "metadata": {},
   "outputs": [],
   "source": [
    "lr_data = lr_data[lr_data.adr>0]"
   ]
  },
  {
   "cell_type": "code",
   "execution_count": 574,
   "id": "98e2ca19",
   "metadata": {},
   "outputs": [],
   "source": [
    "lr_data = lr_data[~(lr_data.distribution_channel=='Undefined')]"
   ]
  },
  {
   "cell_type": "code",
   "execution_count": 575,
   "id": "95b3d7e6",
   "metadata": {},
   "outputs": [],
   "source": [
    "lr_data=lr_data.drop(columns=['reservation_status','name', 'email','phone-number', 'credit_card'])"
   ]
  },
  {
   "cell_type": "code",
   "execution_count": 576,
   "id": "9b40ce85",
   "metadata": {},
   "outputs": [],
   "source": [
    "\n",
    "lr_data.country = lr_data.country.apply(lambda x: 'PRT' if x=='PRT' else 'International')"
   ]
  },
  {
   "cell_type": "code",
   "execution_count": null,
   "id": "083b8b99",
   "metadata": {},
   "outputs": [],
   "source": []
  },
  {
   "cell_type": "code",
   "execution_count": 577,
   "id": "f65f9b8f",
   "metadata": {},
   "outputs": [
    {
     "name": "stdout",
     "output_type": "stream",
     "text": [
      "<class 'pandas.core.frame.DataFrame'>\n",
      "Int64Index: 116927 entries, 2 to 119389\n",
      "Data columns (total 32 columns):\n",
      " #   Column                          Non-Null Count   Dtype  \n",
      "---  ------                          --------------   -----  \n",
      " 0   hotel                           116927 non-null  object \n",
      " 1   is_canceled                     116927 non-null  int64  \n",
      " 2   lead_time                       116927 non-null  int64  \n",
      " 3   arrival_date_year               116927 non-null  int64  \n",
      " 4   arrival_date_month              116927 non-null  object \n",
      " 5   arrival_date_week_number        116927 non-null  int64  \n",
      " 6   arrival_date_day_of_month       116927 non-null  int64  \n",
      " 7   stays_in_weekend_nights         116927 non-null  int64  \n",
      " 8   stays_in_week_nights            116927 non-null  int64  \n",
      " 9   adults                          116927 non-null  int64  \n",
      " 10  children                        116927 non-null  float64\n",
      " 11  babies                          116927 non-null  int64  \n",
      " 12  meal                            116927 non-null  object \n",
      " 13  country                         116927 non-null  object \n",
      " 14  market_segment                  116927 non-null  object \n",
      " 15  distribution_channel            116927 non-null  object \n",
      " 16  is_repeated_guest               116927 non-null  int64  \n",
      " 17  previous_cancellations          116927 non-null  int64  \n",
      " 18  previous_bookings_not_canceled  116927 non-null  int64  \n",
      " 19  reserved_room_type              116927 non-null  object \n",
      " 20  assigned_room_type              116927 non-null  object \n",
      " 21  booking_changes                 116927 non-null  int64  \n",
      " 22  deposit_type                    116927 non-null  object \n",
      " 23  agent                           116927 non-null  object \n",
      " 24  company                         116927 non-null  object \n",
      " 25  days_in_waiting_list            116927 non-null  int64  \n",
      " 26  customer_type                   116927 non-null  object \n",
      " 27  adr                             116927 non-null  float64\n",
      " 28  required_car_parking_spaces     116927 non-null  int64  \n",
      " 29  total_of_special_requests       116927 non-null  int64  \n",
      " 30  reservation_status_date         116927 non-null  object \n",
      " 31  reserved_assigned               116927 non-null  bool   \n",
      "dtypes: bool(1), float64(2), int64(16), object(13)\n",
      "memory usage: 28.7+ MB\n"
     ]
    }
   ],
   "source": [
    "lr_data.info()"
   ]
  },
  {
   "cell_type": "code",
   "execution_count": 578,
   "id": "762cb375",
   "metadata": {},
   "outputs": [],
   "source": [
    "lr_data['reservation_status_date']=pd.to_datetime(lr_data['reservation_status_date'])"
   ]
  },
  {
   "cell_type": "code",
   "execution_count": 579,
   "id": "6d2cfefc",
   "metadata": {},
   "outputs": [
    {
     "data": {
      "text/plain": [
       "Int64Index([ 2,  2,  3,  3,  3,  3,  6, 22, 23,  5,\n",
       "            ...\n",
       "             4,  5,  5,  6,  6,  6,  7,  7,  7,  7],\n",
       "           dtype='int64', name='reservation_status_date', length=116927)"
      ]
     },
     "execution_count": 579,
     "metadata": {},
     "output_type": "execute_result"
    }
   ],
   "source": [
    "pd.DatetimeIndex(lr_data['reservation_status_date']).day"
   ]
  },
  {
   "cell_type": "code",
   "execution_count": 580,
   "id": "37a452d0",
   "metadata": {},
   "outputs": [],
   "source": [
    "lr_data['reservation date'] = pd.DatetimeIndex(lr_data['reservation_status_date']).day\n",
    "lr_data['reservation month'] = pd.DatetimeIndex(lr_data['reservation_status_date']).month\n",
    "lr_data['reservation year'] = pd.DatetimeIndex(lr_data['reservation_status_date']).year"
   ]
  },
  {
   "cell_type": "code",
   "execution_count": 581,
   "id": "4e6535c0",
   "metadata": {},
   "outputs": [],
   "source": [
    "lr_data=lr_data.drop(columns=['reservation_status_date'])"
   ]
  },
  {
   "cell_type": "code",
   "execution_count": 582,
   "id": "dd9c9c1a",
   "metadata": {},
   "outputs": [
    {
     "name": "stdout",
     "output_type": "stream",
     "text": [
      "<class 'pandas.core.frame.DataFrame'>\n",
      "Int64Index: 116927 entries, 2 to 119389\n",
      "Data columns (total 34 columns):\n",
      " #   Column                          Non-Null Count   Dtype  \n",
      "---  ------                          --------------   -----  \n",
      " 0   hotel                           116927 non-null  object \n",
      " 1   is_canceled                     116927 non-null  int64  \n",
      " 2   lead_time                       116927 non-null  int64  \n",
      " 3   arrival_date_year               116927 non-null  int64  \n",
      " 4   arrival_date_month              116927 non-null  object \n",
      " 5   arrival_date_week_number        116927 non-null  int64  \n",
      " 6   arrival_date_day_of_month       116927 non-null  int64  \n",
      " 7   stays_in_weekend_nights         116927 non-null  int64  \n",
      " 8   stays_in_week_nights            116927 non-null  int64  \n",
      " 9   adults                          116927 non-null  int64  \n",
      " 10  children                        116927 non-null  float64\n",
      " 11  babies                          116927 non-null  int64  \n",
      " 12  meal                            116927 non-null  object \n",
      " 13  country                         116927 non-null  object \n",
      " 14  market_segment                  116927 non-null  object \n",
      " 15  distribution_channel            116927 non-null  object \n",
      " 16  is_repeated_guest               116927 non-null  int64  \n",
      " 17  previous_cancellations          116927 non-null  int64  \n",
      " 18  previous_bookings_not_canceled  116927 non-null  int64  \n",
      " 19  reserved_room_type              116927 non-null  object \n",
      " 20  assigned_room_type              116927 non-null  object \n",
      " 21  booking_changes                 116927 non-null  int64  \n",
      " 22  deposit_type                    116927 non-null  object \n",
      " 23  agent                           116927 non-null  object \n",
      " 24  company                         116927 non-null  object \n",
      " 25  days_in_waiting_list            116927 non-null  int64  \n",
      " 26  customer_type                   116927 non-null  object \n",
      " 27  adr                             116927 non-null  float64\n",
      " 28  required_car_parking_spaces     116927 non-null  int64  \n",
      " 29  total_of_special_requests       116927 non-null  int64  \n",
      " 30  reserved_assigned               116927 non-null  bool   \n",
      " 31  reservation date                116927 non-null  int64  \n",
      " 32  reservation month               116927 non-null  int64  \n",
      " 33  reservation year                116927 non-null  int64  \n",
      "dtypes: bool(1), float64(2), int64(19), object(12)\n",
      "memory usage: 30.4+ MB\n"
     ]
    }
   ],
   "source": [
    "lr_data.info()"
   ]
  },
  {
   "cell_type": "code",
   "execution_count": 583,
   "id": "6cb4db01",
   "metadata": {},
   "outputs": [],
   "source": [
    "### True False to 0 and 1\n",
    "lr_data['reserved_assigned']=lr_data['reserved_assigned'].apply(lambda x: 'Yes' if x==True else 'No' )"
   ]
  },
  {
   "cell_type": "code",
   "execution_count": 603,
   "id": "6b41dadb",
   "metadata": {},
   "outputs": [
    {
     "data": {
      "text/html": [
       "<div>\n",
       "<style scoped>\n",
       "    .dataframe tbody tr th:only-of-type {\n",
       "        vertical-align: middle;\n",
       "    }\n",
       "\n",
       "    .dataframe tbody tr th {\n",
       "        vertical-align: top;\n",
       "    }\n",
       "\n",
       "    .dataframe thead th {\n",
       "        text-align: right;\n",
       "    }\n",
       "</style>\n",
       "<table border=\"1\" class=\"dataframe\">\n",
       "  <thead>\n",
       "    <tr style=\"text-align: right;\">\n",
       "      <th></th>\n",
       "      <th>hotel</th>\n",
       "      <th>lead_time</th>\n",
       "      <th>arrival_date_month</th>\n",
       "      <th>arrival_date_week_number</th>\n",
       "      <th>arrival_date_day_of_month</th>\n",
       "      <th>stays_in_weekend_nights</th>\n",
       "      <th>stays_in_week_nights</th>\n",
       "      <th>adults</th>\n",
       "      <th>children</th>\n",
       "      <th>babies</th>\n",
       "      <th>...</th>\n",
       "      <th>agent</th>\n",
       "      <th>company</th>\n",
       "      <th>days_in_waiting_list</th>\n",
       "      <th>customer_type</th>\n",
       "      <th>adr</th>\n",
       "      <th>required_car_parking_spaces</th>\n",
       "      <th>total_of_special_requests</th>\n",
       "      <th>reserved_assigned</th>\n",
       "      <th>reservation date</th>\n",
       "      <th>reservation month</th>\n",
       "    </tr>\n",
       "  </thead>\n",
       "  <tbody>\n",
       "    <tr>\n",
       "      <th>2</th>\n",
       "      <td>Resort Hotel</td>\n",
       "      <td>7</td>\n",
       "      <td>July</td>\n",
       "      <td>27</td>\n",
       "      <td>1</td>\n",
       "      <td>0</td>\n",
       "      <td>1</td>\n",
       "      <td>1</td>\n",
       "      <td>0.0</td>\n",
       "      <td>0</td>\n",
       "      <td>...</td>\n",
       "      <td>No</td>\n",
       "      <td>No</td>\n",
       "      <td>0</td>\n",
       "      <td>Transient</td>\n",
       "      <td>75.00</td>\n",
       "      <td>0</td>\n",
       "      <td>0</td>\n",
       "      <td>No</td>\n",
       "      <td>2</td>\n",
       "      <td>7</td>\n",
       "    </tr>\n",
       "    <tr>\n",
       "      <th>3</th>\n",
       "      <td>Resort Hotel</td>\n",
       "      <td>13</td>\n",
       "      <td>July</td>\n",
       "      <td>27</td>\n",
       "      <td>1</td>\n",
       "      <td>0</td>\n",
       "      <td>1</td>\n",
       "      <td>1</td>\n",
       "      <td>0.0</td>\n",
       "      <td>0</td>\n",
       "      <td>...</td>\n",
       "      <td>Yes</td>\n",
       "      <td>No</td>\n",
       "      <td>0</td>\n",
       "      <td>Transient</td>\n",
       "      <td>75.00</td>\n",
       "      <td>0</td>\n",
       "      <td>0</td>\n",
       "      <td>Yes</td>\n",
       "      <td>2</td>\n",
       "      <td>7</td>\n",
       "    </tr>\n",
       "    <tr>\n",
       "      <th>4</th>\n",
       "      <td>Resort Hotel</td>\n",
       "      <td>14</td>\n",
       "      <td>July</td>\n",
       "      <td>27</td>\n",
       "      <td>1</td>\n",
       "      <td>0</td>\n",
       "      <td>2</td>\n",
       "      <td>2</td>\n",
       "      <td>0.0</td>\n",
       "      <td>0</td>\n",
       "      <td>...</td>\n",
       "      <td>Yes</td>\n",
       "      <td>No</td>\n",
       "      <td>0</td>\n",
       "      <td>Transient</td>\n",
       "      <td>98.00</td>\n",
       "      <td>0</td>\n",
       "      <td>1</td>\n",
       "      <td>Yes</td>\n",
       "      <td>3</td>\n",
       "      <td>7</td>\n",
       "    </tr>\n",
       "    <tr>\n",
       "      <th>5</th>\n",
       "      <td>Resort Hotel</td>\n",
       "      <td>14</td>\n",
       "      <td>July</td>\n",
       "      <td>27</td>\n",
       "      <td>1</td>\n",
       "      <td>0</td>\n",
       "      <td>2</td>\n",
       "      <td>2</td>\n",
       "      <td>0.0</td>\n",
       "      <td>0</td>\n",
       "      <td>...</td>\n",
       "      <td>Yes</td>\n",
       "      <td>No</td>\n",
       "      <td>0</td>\n",
       "      <td>Transient</td>\n",
       "      <td>98.00</td>\n",
       "      <td>0</td>\n",
       "      <td>1</td>\n",
       "      <td>Yes</td>\n",
       "      <td>3</td>\n",
       "      <td>7</td>\n",
       "    </tr>\n",
       "    <tr>\n",
       "      <th>6</th>\n",
       "      <td>Resort Hotel</td>\n",
       "      <td>0</td>\n",
       "      <td>July</td>\n",
       "      <td>27</td>\n",
       "      <td>1</td>\n",
       "      <td>0</td>\n",
       "      <td>2</td>\n",
       "      <td>2</td>\n",
       "      <td>0.0</td>\n",
       "      <td>0</td>\n",
       "      <td>...</td>\n",
       "      <td>No</td>\n",
       "      <td>No</td>\n",
       "      <td>0</td>\n",
       "      <td>Transient</td>\n",
       "      <td>107.00</td>\n",
       "      <td>0</td>\n",
       "      <td>0</td>\n",
       "      <td>Yes</td>\n",
       "      <td>3</td>\n",
       "      <td>7</td>\n",
       "    </tr>\n",
       "    <tr>\n",
       "      <th>...</th>\n",
       "      <td>...</td>\n",
       "      <td>...</td>\n",
       "      <td>...</td>\n",
       "      <td>...</td>\n",
       "      <td>...</td>\n",
       "      <td>...</td>\n",
       "      <td>...</td>\n",
       "      <td>...</td>\n",
       "      <td>...</td>\n",
       "      <td>...</td>\n",
       "      <td>...</td>\n",
       "      <td>...</td>\n",
       "      <td>...</td>\n",
       "      <td>...</td>\n",
       "      <td>...</td>\n",
       "      <td>...</td>\n",
       "      <td>...</td>\n",
       "      <td>...</td>\n",
       "      <td>...</td>\n",
       "      <td>...</td>\n",
       "      <td>...</td>\n",
       "    </tr>\n",
       "    <tr>\n",
       "      <th>119385</th>\n",
       "      <td>City Hotel</td>\n",
       "      <td>23</td>\n",
       "      <td>August</td>\n",
       "      <td>35</td>\n",
       "      <td>30</td>\n",
       "      <td>2</td>\n",
       "      <td>5</td>\n",
       "      <td>2</td>\n",
       "      <td>0.0</td>\n",
       "      <td>0</td>\n",
       "      <td>...</td>\n",
       "      <td>Yes</td>\n",
       "      <td>No</td>\n",
       "      <td>0</td>\n",
       "      <td>Transient</td>\n",
       "      <td>96.14</td>\n",
       "      <td>0</td>\n",
       "      <td>0</td>\n",
       "      <td>Yes</td>\n",
       "      <td>6</td>\n",
       "      <td>9</td>\n",
       "    </tr>\n",
       "    <tr>\n",
       "      <th>119386</th>\n",
       "      <td>City Hotel</td>\n",
       "      <td>102</td>\n",
       "      <td>August</td>\n",
       "      <td>35</td>\n",
       "      <td>31</td>\n",
       "      <td>2</td>\n",
       "      <td>5</td>\n",
       "      <td>3</td>\n",
       "      <td>0.0</td>\n",
       "      <td>0</td>\n",
       "      <td>...</td>\n",
       "      <td>Yes</td>\n",
       "      <td>No</td>\n",
       "      <td>0</td>\n",
       "      <td>Transient</td>\n",
       "      <td>225.43</td>\n",
       "      <td>0</td>\n",
       "      <td>2</td>\n",
       "      <td>Yes</td>\n",
       "      <td>7</td>\n",
       "      <td>9</td>\n",
       "    </tr>\n",
       "    <tr>\n",
       "      <th>119387</th>\n",
       "      <td>City Hotel</td>\n",
       "      <td>34</td>\n",
       "      <td>August</td>\n",
       "      <td>35</td>\n",
       "      <td>31</td>\n",
       "      <td>2</td>\n",
       "      <td>5</td>\n",
       "      <td>2</td>\n",
       "      <td>0.0</td>\n",
       "      <td>0</td>\n",
       "      <td>...</td>\n",
       "      <td>Yes</td>\n",
       "      <td>No</td>\n",
       "      <td>0</td>\n",
       "      <td>Transient</td>\n",
       "      <td>157.71</td>\n",
       "      <td>0</td>\n",
       "      <td>4</td>\n",
       "      <td>Yes</td>\n",
       "      <td>7</td>\n",
       "      <td>9</td>\n",
       "    </tr>\n",
       "    <tr>\n",
       "      <th>119388</th>\n",
       "      <td>City Hotel</td>\n",
       "      <td>109</td>\n",
       "      <td>August</td>\n",
       "      <td>35</td>\n",
       "      <td>31</td>\n",
       "      <td>2</td>\n",
       "      <td>5</td>\n",
       "      <td>2</td>\n",
       "      <td>0.0</td>\n",
       "      <td>0</td>\n",
       "      <td>...</td>\n",
       "      <td>Yes</td>\n",
       "      <td>No</td>\n",
       "      <td>0</td>\n",
       "      <td>Transient</td>\n",
       "      <td>104.40</td>\n",
       "      <td>0</td>\n",
       "      <td>0</td>\n",
       "      <td>Yes</td>\n",
       "      <td>7</td>\n",
       "      <td>9</td>\n",
       "    </tr>\n",
       "    <tr>\n",
       "      <th>119389</th>\n",
       "      <td>City Hotel</td>\n",
       "      <td>205</td>\n",
       "      <td>August</td>\n",
       "      <td>35</td>\n",
       "      <td>29</td>\n",
       "      <td>2</td>\n",
       "      <td>7</td>\n",
       "      <td>2</td>\n",
       "      <td>0.0</td>\n",
       "      <td>0</td>\n",
       "      <td>...</td>\n",
       "      <td>Yes</td>\n",
       "      <td>No</td>\n",
       "      <td>0</td>\n",
       "      <td>Transient</td>\n",
       "      <td>151.20</td>\n",
       "      <td>0</td>\n",
       "      <td>2</td>\n",
       "      <td>Yes</td>\n",
       "      <td>7</td>\n",
       "      <td>9</td>\n",
       "    </tr>\n",
       "  </tbody>\n",
       "</table>\n",
       "<p>116927 rows × 31 columns</p>\n",
       "</div>"
      ],
      "text/plain": [
       "               hotel  lead_time arrival_date_month  arrival_date_week_number  \\\n",
       "2       Resort Hotel          7               July                        27   \n",
       "3       Resort Hotel         13               July                        27   \n",
       "4       Resort Hotel         14               July                        27   \n",
       "5       Resort Hotel         14               July                        27   \n",
       "6       Resort Hotel          0               July                        27   \n",
       "...              ...        ...                ...                       ...   \n",
       "119385    City Hotel         23             August                        35   \n",
       "119386    City Hotel        102             August                        35   \n",
       "119387    City Hotel         34             August                        35   \n",
       "119388    City Hotel        109             August                        35   \n",
       "119389    City Hotel        205             August                        35   \n",
       "\n",
       "        arrival_date_day_of_month  stays_in_weekend_nights  \\\n",
       "2                               1                        0   \n",
       "3                               1                        0   \n",
       "4                               1                        0   \n",
       "5                               1                        0   \n",
       "6                               1                        0   \n",
       "...                           ...                      ...   \n",
       "119385                         30                        2   \n",
       "119386                         31                        2   \n",
       "119387                         31                        2   \n",
       "119388                         31                        2   \n",
       "119389                         29                        2   \n",
       "\n",
       "        stays_in_week_nights  adults  children  babies  ... agent company  \\\n",
       "2                          1       1       0.0       0  ...    No      No   \n",
       "3                          1       1       0.0       0  ...   Yes      No   \n",
       "4                          2       2       0.0       0  ...   Yes      No   \n",
       "5                          2       2       0.0       0  ...   Yes      No   \n",
       "6                          2       2       0.0       0  ...    No      No   \n",
       "...                      ...     ...       ...     ...  ...   ...     ...   \n",
       "119385                     5       2       0.0       0  ...   Yes      No   \n",
       "119386                     5       3       0.0       0  ...   Yes      No   \n",
       "119387                     5       2       0.0       0  ...   Yes      No   \n",
       "119388                     5       2       0.0       0  ...   Yes      No   \n",
       "119389                     7       2       0.0       0  ...   Yes      No   \n",
       "\n",
       "       days_in_waiting_list customer_type     adr  \\\n",
       "2                         0     Transient   75.00   \n",
       "3                         0     Transient   75.00   \n",
       "4                         0     Transient   98.00   \n",
       "5                         0     Transient   98.00   \n",
       "6                         0     Transient  107.00   \n",
       "...                     ...           ...     ...   \n",
       "119385                    0     Transient   96.14   \n",
       "119386                    0     Transient  225.43   \n",
       "119387                    0     Transient  157.71   \n",
       "119388                    0     Transient  104.40   \n",
       "119389                    0     Transient  151.20   \n",
       "\n",
       "        required_car_parking_spaces  total_of_special_requests  \\\n",
       "2                                 0                          0   \n",
       "3                                 0                          0   \n",
       "4                                 0                          1   \n",
       "5                                 0                          1   \n",
       "6                                 0                          0   \n",
       "...                             ...                        ...   \n",
       "119385                            0                          0   \n",
       "119386                            0                          2   \n",
       "119387                            0                          4   \n",
       "119388                            0                          0   \n",
       "119389                            0                          2   \n",
       "\n",
       "       reserved_assigned reservation date  reservation month  \n",
       "2                     No                2                  7  \n",
       "3                    Yes                2                  7  \n",
       "4                    Yes                3                  7  \n",
       "5                    Yes                3                  7  \n",
       "6                    Yes                3                  7  \n",
       "...                  ...              ...                ...  \n",
       "119385               Yes                6                  9  \n",
       "119386               Yes                7                  9  \n",
       "119387               Yes                7                  9  \n",
       "119388               Yes                7                  9  \n",
       "119389               Yes                7                  9  \n",
       "\n",
       "[116927 rows x 31 columns]"
      ]
     },
     "execution_count": 603,
     "metadata": {},
     "output_type": "execute_result"
    }
   ],
   "source": [
    "X.res"
   ]
  },
  {
   "cell_type": "code",
   "execution_count": 584,
   "id": "35c66513",
   "metadata": {},
   "outputs": [],
   "source": [
    "X = lr_data.drop(columns=[\"is_canceled\",\"arrival_date_year\",\"reservation year\"])\n",
    "y = lr_data.is_canceled"
   ]
  },
  {
   "cell_type": "code",
   "execution_count": 585,
   "id": "5ace1cc6",
   "metadata": {},
   "outputs": [],
   "source": [
    "from sklearn.linear_model import LogisticRegression\n",
    "from sklearn.tree import DecisionTreeClassifier\n",
    "from sklearn.ensemble import RandomForestClassifier\n",
    "from sklearn.neighbors import KNeighborsClassifier\n",
    "from sklearn.model_selection import KFold,GridSearchCV\n",
    "from sklearn.ensemble import AdaBoostClassifier\n",
    "from sklearn.ensemble import BaggingClassifier"
   ]
  },
  {
   "cell_type": "code",
   "execution_count": 586,
   "id": "d98be912",
   "metadata": {},
   "outputs": [],
   "source": [
    "from sklearn.pipeline import make_pipeline"
   ]
  },
  {
   "cell_type": "code",
   "execution_count": 587,
   "id": "b3a02f85",
   "metadata": {},
   "outputs": [],
   "source": [
    "from sklearn.compose import make_column_transformer"
   ]
  },
  {
   "cell_type": "code",
   "execution_count": 588,
   "id": "2943f839",
   "metadata": {},
   "outputs": [
    {
     "data": {
      "text/plain": [
       "Index(['hotel', 'arrival_date_month', 'meal', 'country', 'market_segment',\n",
       "       'distribution_channel', 'reserved_room_type', 'assigned_room_type',\n",
       "       'deposit_type', 'agent', 'company', 'customer_type',\n",
       "       'reserved_assigned'],\n",
       "      dtype='object')"
      ]
     },
     "execution_count": 588,
     "metadata": {},
     "output_type": "execute_result"
    }
   ],
   "source": [
    "cat_cols"
   ]
  },
  {
   "cell_type": "code",
   "execution_count": 589,
   "id": "4787db40",
   "metadata": {
    "scrolled": true
   },
   "outputs": [
    {
     "data": {
      "text/plain": [
       "OneHotEncoder()"
      ]
     },
     "execution_count": 589,
     "metadata": {},
     "output_type": "execute_result"
    }
   ],
   "source": [
    "ohe = OneHotEncoder()\n",
    "ohe.fit(X[['hotel', 'arrival_date_month', 'meal', 'country', 'market_segment',\n",
    "       'distribution_channel', 'reserved_room_type', 'assigned_room_type',\n",
    "       'deposit_type', 'agent', 'company', 'customer_type',\n",
    "       'reserved_assigned']])"
   ]
  },
  {
   "cell_type": "code",
   "execution_count": 590,
   "id": "3d5cb6b9",
   "metadata": {},
   "outputs": [
    {
     "data": {
      "text/plain": [
       "[array(['City Hotel', 'Resort Hotel'], dtype=object),\n",
       " array(['April', 'August', 'December', 'February', 'January', 'July',\n",
       "        'June', 'March', 'May', 'November', 'October', 'September'],\n",
       "       dtype=object),\n",
       " array(['BB', 'FB', 'HB', 'SC', 'Undefined'], dtype=object),\n",
       " array(['International', 'PRT'], dtype=object),\n",
       " array(['Aviation', 'Complementary', 'Corporate', 'Direct', 'Groups',\n",
       "        'Offline TA/TO', 'Online TA'], dtype=object),\n",
       " array(['Corporate', 'Direct', 'GDS', 'TA/TO'], dtype=object),\n",
       " array(['A', 'B', 'C', 'D', 'E', 'F', 'G', 'H', 'L'], dtype=object),\n",
       " array(['A', 'B', 'C', 'D', 'E', 'F', 'G', 'H', 'I', 'K', 'L'],\n",
       "       dtype=object),\n",
       " array(['No Deposit', 'Non Refund', 'Refundable'], dtype=object),\n",
       " array(['No', 'Yes'], dtype=object),\n",
       " array(['No', 'Yes'], dtype=object),\n",
       " array(['Contract', 'Group', 'Transient', 'Transient-Party'], dtype=object),\n",
       " array(['No', 'Yes'], dtype=object)]"
      ]
     },
     "execution_count": 590,
     "metadata": {},
     "output_type": "execute_result"
    }
   ],
   "source": [
    "ohe.categories_"
   ]
  },
  {
   "cell_type": "code",
   "execution_count": 591,
   "id": "ec18fdd0",
   "metadata": {},
   "outputs": [],
   "source": [
    "column_trans = make_column_transformer((OneHotEncoder(categories=ohe.categories_),['hotel', 'arrival_date_month', 'meal', 'country', 'market_segment',\n",
    "       'distribution_channel', 'reserved_room_type', 'assigned_room_type',\n",
    "       'deposit_type', 'agent', 'company', 'customer_type',\n",
    "       'reserved_assigned']),remainder='passthrough')"
   ]
  },
  {
   "cell_type": "code",
   "execution_count": 592,
   "id": "9ea6bd92",
   "metadata": {},
   "outputs": [],
   "source": [
    "from sklearn.preprocessing import OneHotEncoder"
   ]
  },
  {
   "cell_type": "code",
   "execution_count": 593,
   "id": "7d27e9a9",
   "metadata": {},
   "outputs": [],
   "source": [
    "pipe = make_pipeline(column_trans,XGBClassifier())"
   ]
  },
  {
   "cell_type": "code",
   "execution_count": 611,
   "id": "8f5335e0",
   "metadata": {},
   "outputs": [
    {
     "data": {
      "text/plain": [
       "Pipeline(steps=[('columntransformer',\n",
       "                 ColumnTransformer(remainder='passthrough',\n",
       "                                   transformers=[('onehotencoder',\n",
       "                                                  OneHotEncoder(categories=[array(['City Hotel', 'Resort Hotel'], dtype=object),\n",
       "                                                                            array(['April', 'August', 'December', 'February', 'January', 'July',\n",
       "       'June', 'March', 'May', 'November', 'October', 'September'],\n",
       "      dtype=object),\n",
       "                                                                            array(['BB', 'FB', 'HB', 'SC', 'Undefi...\n",
       "                               feature_types=None, gamma=0, gpu_id=-1,\n",
       "                               grow_policy='depthwise', importance_type=None,\n",
       "                               interaction_constraints='',\n",
       "                               learning_rate=0.300000012, max_bin=256,\n",
       "                               max_cat_threshold=64, max_cat_to_onehot=4,\n",
       "                               max_delta_step=0, max_depth=6, max_leaves=0,\n",
       "                               min_child_weight=1, missing=nan,\n",
       "                               monotone_constraints='()', n_estimators=100,\n",
       "                               n_jobs=0, num_parallel_tree=1, predictor='auto',\n",
       "                               random_state=0, ...))])"
      ]
     },
     "execution_count": 611,
     "metadata": {},
     "output_type": "execute_result"
    }
   ],
   "source": [
    "pipe.fit(X,y)"
   ]
  },
  {
   "cell_type": "code",
   "execution_count": 612,
   "id": "6ad59aa8",
   "metadata": {},
   "outputs": [],
   "source": [
    "y_pred = pipe.predict(X)"
   ]
  },
  {
   "cell_type": "code",
   "execution_count": 597,
   "id": "a1d419a0",
   "metadata": {},
   "outputs": [],
   "source": [
    "import pickle\n",
    "model = open('xgb.pickle','wb')\n",
    "pickle.dump(pipe,model)\n",
    "model.close()"
   ]
  },
  {
   "cell_type": "code",
   "execution_count": 598,
   "id": "1f477a43",
   "metadata": {
    "scrolled": true
   },
   "outputs": [
    {
     "name": "stdout",
     "output_type": "stream",
     "text": [
      "<class 'pandas.core.frame.DataFrame'>\n",
      "Int64Index: 116927 entries, 2 to 119389\n",
      "Data columns (total 31 columns):\n",
      " #   Column                          Non-Null Count   Dtype  \n",
      "---  ------                          --------------   -----  \n",
      " 0   hotel                           116927 non-null  object \n",
      " 1   lead_time                       116927 non-null  int64  \n",
      " 2   arrival_date_month              116927 non-null  object \n",
      " 3   arrival_date_week_number        116927 non-null  int64  \n",
      " 4   arrival_date_day_of_month       116927 non-null  int64  \n",
      " 5   stays_in_weekend_nights         116927 non-null  int64  \n",
      " 6   stays_in_week_nights            116927 non-null  int64  \n",
      " 7   adults                          116927 non-null  int64  \n",
      " 8   children                        116927 non-null  float64\n",
      " 9   babies                          116927 non-null  int64  \n",
      " 10  meal                            116927 non-null  object \n",
      " 11  country                         116927 non-null  object \n",
      " 12  market_segment                  116927 non-null  object \n",
      " 13  distribution_channel            116927 non-null  object \n",
      " 14  is_repeated_guest               116927 non-null  int64  \n",
      " 15  previous_cancellations          116927 non-null  int64  \n",
      " 16  previous_bookings_not_canceled  116927 non-null  int64  \n",
      " 17  reserved_room_type              116927 non-null  object \n",
      " 18  assigned_room_type              116927 non-null  object \n",
      " 19  booking_changes                 116927 non-null  int64  \n",
      " 20  deposit_type                    116927 non-null  object \n",
      " 21  agent                           116927 non-null  object \n",
      " 22  company                         116927 non-null  object \n",
      " 23  days_in_waiting_list            116927 non-null  int64  \n",
      " 24  customer_type                   116927 non-null  object \n",
      " 25  adr                             116927 non-null  float64\n",
      " 26  required_car_parking_spaces     116927 non-null  int64  \n",
      " 27  total_of_special_requests       116927 non-null  int64  \n",
      " 28  reserved_assigned               116927 non-null  object \n",
      " 29  reservation date                116927 non-null  int64  \n",
      " 30  reservation month               116927 non-null  int64  \n",
      "dtypes: float64(2), int64(16), object(13)\n",
      "memory usage: 28.5+ MB\n"
     ]
    }
   ],
   "source": [
    "X.info()"
   ]
  },
  {
   "cell_type": "code",
   "execution_count": 625,
   "id": "be00d666",
   "metadata": {},
   "outputs": [
    {
     "name": "stdout",
     "output_type": "stream",
     "text": [
      "Overwriting deployment_model.py\n"
     ]
    }
   ],
   "source": [
    "%%writefile deployment_model.py\n",
    "import streamlit as st\n",
    "import pandas as pd\n",
    "st.title('Hotel Cancellation Predictor 🏨')\n",
    "import pickle \n",
    "\n",
    "# Step 1: load the pickled model\n",
    "model = open('xgb.pickle','rb')\n",
    "xgbmodel=pickle.load(model)\n",
    "model.close()\n",
    "\n",
    "# Step 2: create a UI for front end user\n",
    "from PIL import Image\n",
    "hotel = st.radio(\"What's your Prefered Hotel type\",('City Hotel','Resort Hotel'))\n",
    "lead_time=st.slider('Enter Lead Time',1,200)\n",
    "arrival_date_month=st.radio('Enter Arrival date month',('April', 'August', 'December', 'February', 'January', 'July',\n",
    "        'June', 'March', 'May', 'November', 'October', 'September'))\n",
    "arrival_date_week_number=st.slider('Enter Arrival week',1,54)\n",
    "arrival_date_day_of_month=st.slider('Enter Arrival Day of month',1,31)\n",
    "stays_in_weekend_nights= st.slider('Enter Weekend stays',1,108)\n",
    "stays_in_week_nights = st.slider('Enter Weekday stays',1,300)\n",
    "adults = st.slider('Enter Number of adults',1,25)\n",
    "children =  st.slider('Enter Number of children',1,20)\n",
    "babies =  st.slider('Enter Number of babies',0,20)\n",
    "meal =  st.radio('Select Meal Type',('BB', 'FB', 'HB', 'SC'))\n",
    "country=  st.radio('Select Country of Origin ',('PRT', 'International'))\n",
    "market_segment=  st.radio('Select Market Segment',('Direct', 'Corporate', 'Online TA', 'Offline TA/TO',\n",
    "       'Complementary', 'Groups', 'Undefined', 'Aviation'))\n",
    "distribution_channel=  st.radio('Select Distribution Channel',('Direct', 'Corporate', 'TA/TO','GDS'))\n",
    "is_repeated_guest_radio= st.radio('Repeated Guest ?',('Yes','No'))\n",
    "if is_repeated_guest_radio=='Yes':\n",
    "    is_repeated_guest=1\n",
    "else:\n",
    "     is_repeated_guest=0\n",
    "    \n",
    "    \n",
    "previous_cancellations=  st.slider('Enter number of previous cancellations',1,30)\n",
    "previous_bookings_not_canceled=  st.slider('Enter Number of previous bookings',1,50)\n",
    "reserved_room_type=  st.radio('Reserved Room type',('C', 'A', 'D', 'E', 'G', 'F', 'H', 'L', 'P', 'B'))\n",
    "assigned_room_type=  st.radio('Assigned Room type',('C', 'A', 'D', 'E', 'G', 'F', 'I', 'B', 'H', 'P', 'L', 'K'))\n",
    "booking_changes=  st.slider('Enter changes made',1,100)\n",
    "deposit_type=  st.radio(\"Choose Deposit type\",('No Deposit', 'Refundable', 'Non Refund'))\n",
    "agent=  st.radio(\"Booked via Agent ?\",('Yes','No'))\n",
    "company=  st.radio(\"Booked via company ?\",('Yes','No'))\n",
    "days_in_waiting_list=  st.slider('Enter Days in waiting list',1,800)\n",
    "customer_type=  st.radio(\"Select Customer type \",('Transient', 'Contract', 'Transient-Party', 'Group'))\n",
    "adr=  st.slider('Enter Cost per night',1,100)\n",
    "required_car_parking_spaces=  st.slider('Number of car parking required',1,20)\n",
    "total_of_special_requests=  st.slider('Number of special requests',1,50)\n",
    "reserved_assigned=  st.radio(\"Is reserved room same as assigned room ?\",('Yes','No'))\n",
    "reservation_date=  st.slider('Reservation Date',1,31)\n",
    "reservation_month=  st.slider('Reservation month',1,12)\n",
    "\n",
    "# Step 3: Change user input as models input data\n",
    "data={\n",
    "'hotel' : hotel,\n",
    "'lead_time': lead_time,\n",
    "'arrival_date_month': arrival_date_month,\n",
    "'arrival_date_week_number': arrival_date_week_number,\n",
    "'arrival_date_day_of_month': arrival_date_day_of_month,\n",
    "'stays_in_weekend_nights': stays_in_weekend_nights,\n",
    "'stays_in_week_nights' : stays_in_week_nights,\n",
    "'adults' : adults,\n",
    "'children' : children,\n",
    "'babies': babies,\n",
    "'meal': meal,\n",
    "'distribution_channel':distribution_channel,\n",
    "'country': country,\n",
    "'market_segment': market_segment ,\n",
    "'is_repeated_guest' : is_repeated_guest ,                   \n",
    "'previous_cancellations': previous_cancellations,\n",
    "'previous_bookings_not_canceled':  previous_bookings_not_canceled,\n",
    "'reserved_room_type': reserved_room_type,\n",
    "'assigned_room_type': assigned_room_type,\n",
    "'booking_changes':  booking_changes,\n",
    "'deposit_type':  deposit_type,\n",
    "'agent': agent,\n",
    "'company': company ,\n",
    "'days_in_waiting_list':  days_in_waiting_list,\n",
    "'customer_type': customer_type,\n",
    "'adr': adr,\n",
    "'required_car_parking_spaces': required_car_parking_spaces,\n",
    "'total_of_special_requests': total_of_special_requests,\n",
    "'reserved_assigned':  reserved_assigned,\n",
    "'reservation date': reservation_date,\n",
    "'reservation month': reservation_month  \n",
    "}\n",
    "\n",
    "input_data = pd.DataFrame([data])\n",
    "predictions = xgbmodel.predict(input_data)\n",
    "if st.button('Predict'):\n",
    "    if predictions==0:\n",
    "        st.success('This Person is not likely to cancel')\n",
    "    if predictions==1:\n",
    "        st.error('High Chances of customer cancellation')"
   ]
  }
 ],
 "metadata": {
  "kernelspec": {
   "display_name": "Python 3 (ipykernel)",
   "language": "python",
   "name": "python3"
  },
  "language_info": {
   "codemirror_mode": {
    "name": "ipython",
    "version": 3
   },
   "file_extension": ".py",
   "mimetype": "text/x-python",
   "name": "python",
   "nbconvert_exporter": "python",
   "pygments_lexer": "ipython3",
   "version": "3.9.13"
  }
 },
 "nbformat": 4,
 "nbformat_minor": 5
}
